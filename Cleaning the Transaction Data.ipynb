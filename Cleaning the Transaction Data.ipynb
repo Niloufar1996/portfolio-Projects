{
 "cells": [
  {
   "cell_type": "code",
   "execution_count": 1,
   "id": "5545dce9",
   "metadata": {},
   "outputs": [],
   "source": [
    "import pandas as pd"
   ]
  },
  {
   "cell_type": "code",
   "execution_count": 2,
   "id": "9aec800d",
   "metadata": {},
   "outputs": [
    {
     "name": "stderr",
     "output_type": "stream",
     "text": [
      "/var/folders/zl/jhj123451rqgttjyx7g_2ypw0000gn/T/ipykernel_29342/1336374710.py:1: DtypeWarning: Columns (5) have mixed types. Specify dtype option on import or set low_memory=False.\n",
      "  df1 = pd.read_csv('/Users/nilou/Documents/MSc Data Analytics/Dissertation project/Second topic sources/Desktop/nilou.csv')\n",
      "/var/folders/zl/jhj123451rqgttjyx7g_2ypw0000gn/T/ipykernel_29342/1336374710.py:2: DtypeWarning: Columns (5) have mixed types. Specify dtype option on import or set low_memory=False.\n",
      "  df2 = pd.read_csv('/Users/nilou/Documents/MSc Data Analytics/Dissertation project/Second topic sources/Desktop/nilou01.csv')\n"
     ]
    }
   ],
   "source": [
    "df1 = pd.read_csv('/Users/nilou/Documents/MSc Data Analytics/Dissertation project/Second topic sources/Desktop/nilou.csv')\n",
    "df2 = pd.read_csv('/Users/nilou/Documents/MSc Data Analytics/Dissertation project/Second topic sources/Desktop/nilou01.csv')"
   ]
  },
  {
   "cell_type": "code",
   "execution_count": 3,
   "id": "423397ec",
   "metadata": {},
   "outputs": [],
   "source": [
    "df = pd.concat([df2, df1], ignore_index=True)"
   ]
  },
  {
   "cell_type": "code",
   "execution_count": 4,
   "id": "e178c908",
   "metadata": {},
   "outputs": [
    {
     "data": {
      "text/plain": [
       "(72385062, 16)"
      ]
     },
     "execution_count": 4,
     "metadata": {},
     "output_type": "execute_result"
    }
   ],
   "source": [
    "df.shape"
   ]
  },
  {
   "cell_type": "code",
   "execution_count": 5,
   "id": "eca6d7dc",
   "metadata": {},
   "outputs": [],
   "source": [
    "df_columns_dropped = df.drop(columns = ['TFPhoneNumber'])"
   ]
  },
  {
   "cell_type": "code",
   "execution_count": 20,
   "id": "b4be03be",
   "metadata": {},
   "outputs": [],
   "source": [
    "df_columns_dropped = df.drop(columns = ['SubmitCompleteDuration', 'TFProductId', 'TFIschargeok', 'TFPhoneNumber', 'TFAmountWithDiscount','TFProviderRespDuration', 'TFServiceRespDuration','TFID'])"
   ]
  },
  {
   "cell_type": "code",
   "execution_count": 7,
   "id": "7b313019",
   "metadata": {},
   "outputs": [
    {
     "data": {
      "text/plain": [
       "(72385062, 9)"
      ]
     },
     "execution_count": 7,
     "metadata": {},
     "output_type": "execute_result"
    }
   ],
   "source": [
    "df_columns_dropped.shape"
   ]
  },
  {
   "cell_type": "code",
   "execution_count": 12,
   "id": "d48a96ce",
   "metadata": {
    "scrolled": true
   },
   "outputs": [
    {
     "data": {
      "text/html": [
       "<div>\n",
       "<style scoped>\n",
       "    .dataframe tbody tr th:only-of-type {\n",
       "        vertical-align: middle;\n",
       "    }\n",
       "\n",
       "    .dataframe tbody tr th {\n",
       "        vertical-align: top;\n",
       "    }\n",
       "\n",
       "    .dataframe thead th {\n",
       "        text-align: right;\n",
       "    }\n",
       "</style>\n",
       "<table border=\"1\" class=\"dataframe\">\n",
       "  <thead>\n",
       "    <tr style=\"text-align: right;\">\n",
       "      <th></th>\n",
       "      <th>TFID</th>\n",
       "      <th>TFUserId</th>\n",
       "      <th>TFAmount</th>\n",
       "      <th>ResultCode</th>\n",
       "      <th>TFDateReserved</th>\n",
       "      <th>TFOperator</th>\n",
       "      <th>TFStatus</th>\n",
       "      <th>TFProviderRespDurationForReserve</th>\n",
       "      <th>TFServiceRespDurationForReserve</th>\n",
       "    </tr>\n",
       "  </thead>\n",
       "  <tbody>\n",
       "    <tr>\n",
       "      <th>0</th>\n",
       "      <td>66044082</td>\n",
       "      <td>1028</td>\n",
       "      <td>100000.0</td>\n",
       "      <td>-5</td>\n",
       "      <td>2023-01-01 00:00:10.490000000</td>\n",
       "      <td>MTN</td>\n",
       "      <td>0</td>\n",
       "      <td>0</td>\n",
       "      <td>14</td>\n",
       "    </tr>\n",
       "    <tr>\n",
       "      <th>1</th>\n",
       "      <td>66044083</td>\n",
       "      <td>1028</td>\n",
       "      <td>50000.0</td>\n",
       "      <td>-5</td>\n",
       "      <td>2023-01-01 00:00:14.130000000</td>\n",
       "      <td>MCI</td>\n",
       "      <td>0</td>\n",
       "      <td>423</td>\n",
       "      <td>436</td>\n",
       "    </tr>\n",
       "    <tr>\n",
       "      <th>2</th>\n",
       "      <td>66044084</td>\n",
       "      <td>1028</td>\n",
       "      <td>200000.0</td>\n",
       "      <td>-5</td>\n",
       "      <td>2023-01-01 00:00:24.540000000</td>\n",
       "      <td>MTN</td>\n",
       "      <td>0</td>\n",
       "      <td>0</td>\n",
       "      <td>9</td>\n",
       "    </tr>\n",
       "    <tr>\n",
       "      <th>3</th>\n",
       "      <td>66044085</td>\n",
       "      <td>1028</td>\n",
       "      <td>200000.0</td>\n",
       "      <td>-5</td>\n",
       "      <td>2023-01-01 00:00:26.707000000</td>\n",
       "      <td>MCI</td>\n",
       "      <td>0</td>\n",
       "      <td>603</td>\n",
       "      <td>649</td>\n",
       "    </tr>\n",
       "    <tr>\n",
       "      <th>4</th>\n",
       "      <td>66044086</td>\n",
       "      <td>1028</td>\n",
       "      <td>200000.0</td>\n",
       "      <td>-5</td>\n",
       "      <td>2023-01-01 00:00:28.683000000</td>\n",
       "      <td>MTN</td>\n",
       "      <td>0</td>\n",
       "      <td>0</td>\n",
       "      <td>10</td>\n",
       "    </tr>\n",
       "    <tr>\n",
       "      <th>5</th>\n",
       "      <td>66044087</td>\n",
       "      <td>1028</td>\n",
       "      <td>51000.0</td>\n",
       "      <td>-5</td>\n",
       "      <td>2023-01-01 00:00:31.453000000</td>\n",
       "      <td>MTN</td>\n",
       "      <td>0</td>\n",
       "      <td>0</td>\n",
       "      <td>10</td>\n",
       "    </tr>\n",
       "    <tr>\n",
       "      <th>6</th>\n",
       "      <td>66044088</td>\n",
       "      <td>1028</td>\n",
       "      <td>50000.0</td>\n",
       "      <td>-5</td>\n",
       "      <td>2023-01-01 00:00:32.427000000</td>\n",
       "      <td>MTN</td>\n",
       "      <td>0</td>\n",
       "      <td>0</td>\n",
       "      <td>13</td>\n",
       "    </tr>\n",
       "    <tr>\n",
       "      <th>7</th>\n",
       "      <td>66044089</td>\n",
       "      <td>1028</td>\n",
       "      <td>100000.0</td>\n",
       "      <td>-5</td>\n",
       "      <td>2023-01-01 00:00:51.150000000</td>\n",
       "      <td>MTN</td>\n",
       "      <td>0</td>\n",
       "      <td>0</td>\n",
       "      <td>10</td>\n",
       "    </tr>\n",
       "    <tr>\n",
       "      <th>8</th>\n",
       "      <td>66044090</td>\n",
       "      <td>1028</td>\n",
       "      <td>200000.0</td>\n",
       "      <td>-5</td>\n",
       "      <td>2023-01-01 00:01:02.423000000</td>\n",
       "      <td>MCI</td>\n",
       "      <td>0</td>\n",
       "      <td>374</td>\n",
       "      <td>383</td>\n",
       "    </tr>\n",
       "    <tr>\n",
       "      <th>9</th>\n",
       "      <td>66044091</td>\n",
       "      <td>1028</td>\n",
       "      <td>50000.0</td>\n",
       "      <td>-5</td>\n",
       "      <td>2023-01-01 00:01:03.963000000</td>\n",
       "      <td>MTN</td>\n",
       "      <td>0</td>\n",
       "      <td>0</td>\n",
       "      <td>8</td>\n",
       "    </tr>\n",
       "  </tbody>\n",
       "</table>\n",
       "</div>"
      ],
      "text/plain": [
       "       TFID  TFUserId  TFAmount ResultCode                 TFDateReserved  \\\n",
       "0  66044082      1028  100000.0         -5  2023-01-01 00:00:10.490000000   \n",
       "1  66044083      1028   50000.0         -5  2023-01-01 00:00:14.130000000   \n",
       "2  66044084      1028  200000.0         -5  2023-01-01 00:00:24.540000000   \n",
       "3  66044085      1028  200000.0         -5  2023-01-01 00:00:26.707000000   \n",
       "4  66044086      1028  200000.0         -5  2023-01-01 00:00:28.683000000   \n",
       "5  66044087      1028   51000.0         -5  2023-01-01 00:00:31.453000000   \n",
       "6  66044088      1028   50000.0         -5  2023-01-01 00:00:32.427000000   \n",
       "7  66044089      1028  100000.0         -5  2023-01-01 00:00:51.150000000   \n",
       "8  66044090      1028  200000.0         -5  2023-01-01 00:01:02.423000000   \n",
       "9  66044091      1028   50000.0         -5  2023-01-01 00:01:03.963000000   \n",
       "\n",
       "  TFOperator  TFStatus  TFProviderRespDurationForReserve  \\\n",
       "0        MTN         0                                 0   \n",
       "1        MCI         0                               423   \n",
       "2        MTN         0                                 0   \n",
       "3        MCI         0                               603   \n",
       "4        MTN         0                                 0   \n",
       "5        MTN         0                                 0   \n",
       "6        MTN         0                                 0   \n",
       "7        MTN         0                                 0   \n",
       "8        MCI         0                               374   \n",
       "9        MTN         0                                 0   \n",
       "\n",
       "   TFServiceRespDurationForReserve  \n",
       "0                               14  \n",
       "1                              436  \n",
       "2                                9  \n",
       "3                              649  \n",
       "4                               10  \n",
       "5                               10  \n",
       "6                               13  \n",
       "7                               10  \n",
       "8                              383  \n",
       "9                                8  "
      ]
     },
     "execution_count": 12,
     "metadata": {},
     "output_type": "execute_result"
    }
   ],
   "source": [
    "df_columns_dropped.head(10)"
   ]
  },
  {
   "cell_type": "code",
   "execution_count": 16,
   "id": "b7e58f04",
   "metadata": {},
   "outputs": [],
   "source": [
    "df_columns_dropped['TFDateReserved'] = pd.to_datetime(df_columns_dropped['TFDateReserved'], errors='coerce')\n",
    "\n",
    "# Identify problematic entries (NaT values)\n",
    "problematic_entries = df_columns_dropped[df_columns_dropped['TFDateReserved'].isnull()]['TFDateReserved']\n",
    "\n",
    "# Optionally, you can print or further inspect the problematic entries\n",
    "#print(\"Problematic entries:\", problematic_entries)\n"
   ]
  },
  {
   "cell_type": "code",
   "execution_count": 17,
   "id": "d31fad77",
   "metadata": {},
   "outputs": [],
   "source": [
    "df['TFDateReserved'] = pd.to_datetime(df['TFDateReserved'])\n"
   ]
  },
  {
   "cell_type": "code",
   "execution_count": 18,
   "id": "74c37d6d",
   "metadata": {},
   "outputs": [
    {
     "name": "stdout",
     "output_type": "stream",
     "text": [
      "             TFID  TFUserId  TFAmount ResultCode          TFDateReserved  \\\n",
      "2357772  68401856      1030  400000.0      50016 2023-03-19 00:00:08.880   \n",
      "2357773  68401857      1028  201000.0      50016 2023-03-19 00:00:15.937   \n",
      "2357774  68401858      1028  100000.0      50016 2023-03-19 00:00:18.020   \n",
      "2357775  68401859      1028  200000.0         -5 2023-03-19 00:00:23.613   \n",
      "2357776  68401860      1028  100000.0      50016 2023-03-19 00:00:30.050   \n",
      "\n",
      "        TFOperator  TFStatus  TFProviderRespDurationForReserve  \\\n",
      "2357772        MTN         0                                 0   \n",
      "2357773        MTN         0                                 0   \n",
      "2357774        MTN         0                                 0   \n",
      "2357775        RAY         0                                 0   \n",
      "2357776        MTN         0                                 0   \n",
      "\n",
      "         TFServiceRespDurationForReserve  \n",
      "2357772                                0  \n",
      "2357773                                0  \n",
      "2357774                                0  \n",
      "2357775                              111  \n",
      "2357776                                0  \n"
     ]
    }
   ],
   "source": [
    "# Assuming 'TFDateReserved' is in datetime format\n",
    "filtered_df = df_columns_dropped[df_columns_dropped['TFDateReserved'].dt.date == pd.to_datetime('2023-03-19').date()]\n",
    "\n",
    "# Display the head of the filtered DataFrame\n"
   ]
  },
  {
   "cell_type": "code",
   "execution_count": 19,
   "id": "f0e652de",
   "metadata": {
    "scrolled": false
   },
   "outputs": [
    {
     "data": {
      "text/html": [
       "<div>\n",
       "<style scoped>\n",
       "    .dataframe tbody tr th:only-of-type {\n",
       "        vertical-align: middle;\n",
       "    }\n",
       "\n",
       "    .dataframe tbody tr th {\n",
       "        vertical-align: top;\n",
       "    }\n",
       "\n",
       "    .dataframe thead th {\n",
       "        text-align: right;\n",
       "    }\n",
       "</style>\n",
       "<table border=\"1\" class=\"dataframe\">\n",
       "  <thead>\n",
       "    <tr style=\"text-align: right;\">\n",
       "      <th></th>\n",
       "      <th>TFID</th>\n",
       "      <th>TFUserId</th>\n",
       "      <th>TFAmount</th>\n",
       "      <th>ResultCode</th>\n",
       "      <th>TFDateReserved</th>\n",
       "      <th>TFOperator</th>\n",
       "      <th>TFStatus</th>\n",
       "      <th>TFProviderRespDurationForReserve</th>\n",
       "      <th>TFServiceRespDurationForReserve</th>\n",
       "    </tr>\n",
       "  </thead>\n",
       "  <tbody>\n",
       "    <tr>\n",
       "      <th>2357772</th>\n",
       "      <td>68401856</td>\n",
       "      <td>1030</td>\n",
       "      <td>400000.0</td>\n",
       "      <td>50016</td>\n",
       "      <td>2023-03-19 00:00:08.880</td>\n",
       "      <td>MTN</td>\n",
       "      <td>0</td>\n",
       "      <td>0</td>\n",
       "      <td>0</td>\n",
       "    </tr>\n",
       "    <tr>\n",
       "      <th>2357773</th>\n",
       "      <td>68401857</td>\n",
       "      <td>1028</td>\n",
       "      <td>201000.0</td>\n",
       "      <td>50016</td>\n",
       "      <td>2023-03-19 00:00:15.937</td>\n",
       "      <td>MTN</td>\n",
       "      <td>0</td>\n",
       "      <td>0</td>\n",
       "      <td>0</td>\n",
       "    </tr>\n",
       "    <tr>\n",
       "      <th>2357774</th>\n",
       "      <td>68401858</td>\n",
       "      <td>1028</td>\n",
       "      <td>100000.0</td>\n",
       "      <td>50016</td>\n",
       "      <td>2023-03-19 00:00:18.020</td>\n",
       "      <td>MTN</td>\n",
       "      <td>0</td>\n",
       "      <td>0</td>\n",
       "      <td>0</td>\n",
       "    </tr>\n",
       "    <tr>\n",
       "      <th>2357775</th>\n",
       "      <td>68401859</td>\n",
       "      <td>1028</td>\n",
       "      <td>200000.0</td>\n",
       "      <td>-5</td>\n",
       "      <td>2023-03-19 00:00:23.613</td>\n",
       "      <td>RAY</td>\n",
       "      <td>0</td>\n",
       "      <td>0</td>\n",
       "      <td>111</td>\n",
       "    </tr>\n",
       "    <tr>\n",
       "      <th>2357776</th>\n",
       "      <td>68401860</td>\n",
       "      <td>1028</td>\n",
       "      <td>100000.0</td>\n",
       "      <td>50016</td>\n",
       "      <td>2023-03-19 00:00:30.050</td>\n",
       "      <td>MTN</td>\n",
       "      <td>0</td>\n",
       "      <td>0</td>\n",
       "      <td>0</td>\n",
       "    </tr>\n",
       "  </tbody>\n",
       "</table>\n",
       "</div>"
      ],
      "text/plain": [
       "             TFID  TFUserId  TFAmount ResultCode          TFDateReserved  \\\n",
       "2357772  68401856      1030  400000.0      50016 2023-03-19 00:00:08.880   \n",
       "2357773  68401857      1028  201000.0      50016 2023-03-19 00:00:15.937   \n",
       "2357774  68401858      1028  100000.0      50016 2023-03-19 00:00:18.020   \n",
       "2357775  68401859      1028  200000.0         -5 2023-03-19 00:00:23.613   \n",
       "2357776  68401860      1028  100000.0      50016 2023-03-19 00:00:30.050   \n",
       "\n",
       "        TFOperator  TFStatus  TFProviderRespDurationForReserve  \\\n",
       "2357772        MTN         0                                 0   \n",
       "2357773        MTN         0                                 0   \n",
       "2357774        MTN         0                                 0   \n",
       "2357775        RAY         0                                 0   \n",
       "2357776        MTN         0                                 0   \n",
       "\n",
       "         TFServiceRespDurationForReserve  \n",
       "2357772                                0  \n",
       "2357773                                0  \n",
       "2357774                                0  \n",
       "2357775                              111  \n",
       "2357776                                0  "
      ]
     },
     "execution_count": 19,
     "metadata": {},
     "output_type": "execute_result"
    }
   ],
   "source": [
    "filtered_df.head()"
   ]
  },
  {
   "cell_type": "code",
   "execution_count": 8,
   "id": "c4c203a8",
   "metadata": {
    "scrolled": false
   },
   "outputs": [
    {
     "name": "stdout",
     "output_type": "stream",
     "text": [
      "<class 'pandas.core.frame.DataFrame'>\n",
      "RangeIndex: 72385062 entries, 0 to 72385061\n",
      "Data columns (total 9 columns):\n",
      " #   Column                            Dtype  \n",
      "---  ------                            -----  \n",
      " 0   TFID                              int64  \n",
      " 1   TFUserId                          int64  \n",
      " 2   TFAmount                          float64\n",
      " 3   ResultCode                        object \n",
      " 4   TFDateReserved                    object \n",
      " 5   TFOperator                        object \n",
      " 6   TFStatus                          int64  \n",
      " 7   TFProviderRespDurationForReserve  int64  \n",
      " 8   TFServiceRespDurationForReserve   int64  \n",
      "dtypes: float64(1), int64(5), object(3)\n",
      "memory usage: 4.9+ GB\n"
     ]
    }
   ],
   "source": [
    "df_columns_dropped.info()"
   ]
  },
  {
   "cell_type": "code",
   "execution_count": 22,
   "id": "e371ccac",
   "metadata": {},
   "outputs": [
    {
     "data": {
      "text/plain": [
       "201841"
      ]
     },
     "execution_count": 22,
     "metadata": {},
     "output_type": "execute_result"
    }
   ],
   "source": [
    "df_columns_dropped.duplicated().sum()"
   ]
  },
  {
   "cell_type": "code",
   "execution_count": 11,
   "id": "49aa646e",
   "metadata": {},
   "outputs": [],
   "source": [
    "#cleaned_df = df_columns_dropped.to_csv('/Users/nilou/Documents/MSc Data Analytics/Dissertation project/Second topic sources/Desktop/cleaned_TransactionData.csv', index=False)"
   ]
  }
 ],
 "metadata": {
  "kernelspec": {
   "display_name": "Python 3 (ipykernel)",
   "language": "python",
   "name": "python3"
  },
  "language_info": {
   "codemirror_mode": {
    "name": "ipython",
    "version": 3
   },
   "file_extension": ".py",
   "mimetype": "text/x-python",
   "name": "python",
   "nbconvert_exporter": "python",
   "pygments_lexer": "ipython3",
   "version": "3.11.3"
  }
 },
 "nbformat": 4,
 "nbformat_minor": 5
}
